{
  "cells": [
    {
      "cell_type": "markdown",
      "metadata": {
        "language": "markdown"
      },
      "source": [
        "# MODIS Fire Type Classification Pipeline",
        "This notebook implements a comprehensive machine learning pipeline for classifying fire types using MODIS data."
      ]
    },
    {
      "cell_type": "code",
      "metadata": {
        "language": "python"
      },
      "source": [
        "import numpy as np",
        "import pandas as pd",
        "import matplotlib.pyplot as plt",
        "import seaborn as sns",
        "from sklearn.model_selection import train_test_split, GridSearchCV, cross_val_score",
        "from sklearn.linear_model import LogisticRegression",
        "from sklearn.ensemble import RandomForestClassifier, GradientBoostingClassifier",
        "from sklearn.preprocessing import StandardScaler, LabelEncoder",
        "from sklearn.metrics import accuracy_score, classification_report, confusion_matrix, ConfusionMatrixDisplay",
        "from sklearn.utils import resample",
        "from sklearn.feature_selection import SelectKBest, f_classif",
        "import warnings",
        "warnings.filterwarnings('ignore')",
        "",
        "# Set random seed for reproducibility",
        "np.random.seed(42)"
      ]
    },
    {
      "cell_type": "code",
      "metadata": {
        "language": "python"
      },
      "source": [
        "class FireTypeClassifier:",
        "    def __init__(self):",
        "        self.scaler = StandardScaler()",
        "        self.models = {}",
        "        self.best_model = None",
        "        self.feature_selector = None",
        "    ",
        "    def load_and_combine_data(self, file_paths):",
        "        dataframes = []",
        "        for file_path in file_paths:",
        "            df = pd.read_csv(file_path)",
        "            dataframes.append(df)",
        "        return pd.concat(dataframes, ignore_index=True)",
        "    ",
        "    def advanced_eda(self, df):",
        "        # ...existing code...",
        "        return df",
        "    ",
        "    def feature_engineering(self, df):",
        "        # ...existing code...",
        "        return df",
        "    ",
        "    def prepare_features(self, df):",
        "        # ...existing code...",
        "        return X, y",
        "    ",
        "    def handle_class_imbalance(self, X, y):",
        "        # ...existing code...",
        "        return X_balanced, y_balanced",
        "    ",
        "    def feature_selection(self, X_train, y_train, k=15):",
        "        # ...existing code...",
        "        return X_train_selected, selected_features",
        "    ",
        "    def train_models(self, X_train, y_train, X_test, y_test):",
        "        # ...existing code...",
        "        return results",
        "    ",
        "    def hyperparameter_tuning(self, X_train, y_train):",
        "        # ...existing code...",
        "        return grid_search.best_estimator_",
        "    ",
        "    def evaluate_model(self, X_test, y_test, selected_features=None):",
        "        # ...existing code...",
        "        return accuracy, y_pred",
        "    ",
        "    def run_complete_pipeline(self, file_paths):",
        "        # ...existing code...",
        "        return {",
        "            'accuracy': accuracy,",
        "            'model': self.best_model,",
        "            'selected_features': selected_features,",
        "            'scaler': self.scaler,",
        "            'feature_selector': self.feature_selector",
        "        }"
      ]
    },
    {
      "cell_type": "code",
      "metadata": {
        "language": "python"
      },
      "source": [
        "# Usage",
        "if __name__ == \"__main__\":",
        "    classifier = FireTypeClassifier()",
        "    file_paths = ['modis_2021_India.csv', 'modis_2022_India.csv', 'modis_2023_India.csv']",
        "    results = classifier.run_complete_pipeline(file_paths)",
        "    print(f\"\\n🎉 Pipeline Complete! Final Accuracy: {results['accuracy']:.4f}\")"
      ]
    }
  ]
}
